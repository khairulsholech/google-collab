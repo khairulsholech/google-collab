{
  "nbformat": 4,
  "nbformat_minor": 0,
  "metadata": {
    "colab": {
      "provenance": [],
      "authorship_tag": "ABX9TyMG0GRHTTADl+25iC/F4ha5",
      "include_colab_link": true
    },
    "kernelspec": {
      "name": "python3",
      "display_name": "Python 3"
    },
    "language_info": {
      "name": "python"
    }
  },
  "cells": [
    {
      "cell_type": "markdown",
      "metadata": {
        "id": "view-in-github",
        "colab_type": "text"
      },
      "source": [
        "<a href=\"https://colab.research.google.com/github/khairulsholech/google-collab/blob/main/5_1_KNN.ipynb\" target=\"_parent\"><img src=\"https://colab.research.google.com/assets/colab-badge.svg\" alt=\"Open In Colab\"/></a>"
      ]
    },
    {
      "cell_type": "markdown",
      "source": [
        "NAMA : Khairul Sholech\n",
        "\n",
        "NIM  : 41519120068\n",
        "\n",
        "MATKUL : MACHINE LEARNING\n",
        "\n",
        "KELOMPOK 2"
      ],
      "metadata": {
        "id": "sOmCSOmwg8gH"
      }
    },
    {
      "cell_type": "code",
      "execution_count": null,
      "metadata": {
        "colab": {
          "base_uri": "https://localhost:8080/"
        },
        "id": "rT2glADfaV46",
        "outputId": "5330c192-7101-4639-9cd6-6ec74a11a45d"
      },
      "outputs": [
        {
          "output_type": "stream",
          "name": "stdout",
          "text": [
            "Drive already mounted at /content/gdrive; to attempt to forcibly remount, call drive.mount(\"/content/gdrive\", force_remount=True).\n"
          ]
        }
      ],
      "source": [
        "#Mount Google Drive \n",
        "from google.colab import drive\n",
        "drive.mount('/content/gdrive')"
      ]
    },
    {
      "cell_type": "code",
      "source": [
        "import pandas as pd\n",
        "import numpy as np\n",
        "import math\n",
        "import operator\n",
        "\n",
        "SetItem = pd.read_csv('/content/gdrive/MyDrive/Colab Notebooks/k-NN/knn-burgerstar - Training.csv')\n",
        "SetItem.head()"
      ],
      "metadata": {
        "colab": {
          "base_uri": "https://localhost:8080/",
          "height": 206
        },
        "id": "erfGjQwoaouY",
        "outputId": "1d81ec14-139a-48b5-882b-af6f0e659ae3"
      },
      "execution_count": null,
      "outputs": [
        {
          "output_type": "execute_result",
          "data": {
            "text/plain": [
              "   Makan  Minum Class\n",
              "0      7      4     A\n",
              "1      8      5     A\n",
              "2      5      7     B\n",
              "3      6      8     B\n",
              "4      5      4     B"
            ],
            "text/html": [
              "\n",
              "  <div id=\"df-4a4469a7-4e49-47bb-a8fe-d00c3f56a5a3\">\n",
              "    <div class=\"colab-df-container\">\n",
              "      <div>\n",
              "<style scoped>\n",
              "    .dataframe tbody tr th:only-of-type {\n",
              "        vertical-align: middle;\n",
              "    }\n",
              "\n",
              "    .dataframe tbody tr th {\n",
              "        vertical-align: top;\n",
              "    }\n",
              "\n",
              "    .dataframe thead th {\n",
              "        text-align: right;\n",
              "    }\n",
              "</style>\n",
              "<table border=\"1\" class=\"dataframe\">\n",
              "  <thead>\n",
              "    <tr style=\"text-align: right;\">\n",
              "      <th></th>\n",
              "      <th>Makan</th>\n",
              "      <th>Minum</th>\n",
              "      <th>Class</th>\n",
              "    </tr>\n",
              "  </thead>\n",
              "  <tbody>\n",
              "    <tr>\n",
              "      <th>0</th>\n",
              "      <td>7</td>\n",
              "      <td>4</td>\n",
              "      <td>A</td>\n",
              "    </tr>\n",
              "    <tr>\n",
              "      <th>1</th>\n",
              "      <td>8</td>\n",
              "      <td>5</td>\n",
              "      <td>A</td>\n",
              "    </tr>\n",
              "    <tr>\n",
              "      <th>2</th>\n",
              "      <td>5</td>\n",
              "      <td>7</td>\n",
              "      <td>B</td>\n",
              "    </tr>\n",
              "    <tr>\n",
              "      <th>3</th>\n",
              "      <td>6</td>\n",
              "      <td>8</td>\n",
              "      <td>B</td>\n",
              "    </tr>\n",
              "    <tr>\n",
              "      <th>4</th>\n",
              "      <td>5</td>\n",
              "      <td>4</td>\n",
              "      <td>B</td>\n",
              "    </tr>\n",
              "  </tbody>\n",
              "</table>\n",
              "</div>\n",
              "      <button class=\"colab-df-convert\" onclick=\"convertToInteractive('df-4a4469a7-4e49-47bb-a8fe-d00c3f56a5a3')\"\n",
              "              title=\"Convert this dataframe to an interactive table.\"\n",
              "              style=\"display:none;\">\n",
              "        \n",
              "  <svg xmlns=\"http://www.w3.org/2000/svg\" height=\"24px\"viewBox=\"0 0 24 24\"\n",
              "       width=\"24px\">\n",
              "    <path d=\"M0 0h24v24H0V0z\" fill=\"none\"/>\n",
              "    <path d=\"M18.56 5.44l.94 2.06.94-2.06 2.06-.94-2.06-.94-.94-2.06-.94 2.06-2.06.94zm-11 1L8.5 8.5l.94-2.06 2.06-.94-2.06-.94L8.5 2.5l-.94 2.06-2.06.94zm10 10l.94 2.06.94-2.06 2.06-.94-2.06-.94-.94-2.06-.94 2.06-2.06.94z\"/><path d=\"M17.41 7.96l-1.37-1.37c-.4-.4-.92-.59-1.43-.59-.52 0-1.04.2-1.43.59L10.3 9.45l-7.72 7.72c-.78.78-.78 2.05 0 2.83L4 21.41c.39.39.9.59 1.41.59.51 0 1.02-.2 1.41-.59l7.78-7.78 2.81-2.81c.8-.78.8-2.07 0-2.86zM5.41 20L4 18.59l7.72-7.72 1.47 1.35L5.41 20z\"/>\n",
              "  </svg>\n",
              "      </button>\n",
              "      \n",
              "  <style>\n",
              "    .colab-df-container {\n",
              "      display:flex;\n",
              "      flex-wrap:wrap;\n",
              "      gap: 12px;\n",
              "    }\n",
              "\n",
              "    .colab-df-convert {\n",
              "      background-color: #E8F0FE;\n",
              "      border: none;\n",
              "      border-radius: 50%;\n",
              "      cursor: pointer;\n",
              "      display: none;\n",
              "      fill: #1967D2;\n",
              "      height: 32px;\n",
              "      padding: 0 0 0 0;\n",
              "      width: 32px;\n",
              "    }\n",
              "\n",
              "    .colab-df-convert:hover {\n",
              "      background-color: #E2EBFA;\n",
              "      box-shadow: 0px 1px 2px rgba(60, 64, 67, 0.3), 0px 1px 3px 1px rgba(60, 64, 67, 0.15);\n",
              "      fill: #174EA6;\n",
              "    }\n",
              "\n",
              "    [theme=dark] .colab-df-convert {\n",
              "      background-color: #3B4455;\n",
              "      fill: #D2E3FC;\n",
              "    }\n",
              "\n",
              "    [theme=dark] .colab-df-convert:hover {\n",
              "      background-color: #434B5C;\n",
              "      box-shadow: 0px 1px 3px 1px rgba(0, 0, 0, 0.15);\n",
              "      filter: drop-shadow(0px 1px 2px rgba(0, 0, 0, 0.3));\n",
              "      fill: #FFFFFF;\n",
              "    }\n",
              "  </style>\n",
              "\n",
              "      <script>\n",
              "        const buttonEl =\n",
              "          document.querySelector('#df-4a4469a7-4e49-47bb-a8fe-d00c3f56a5a3 button.colab-df-convert');\n",
              "        buttonEl.style.display =\n",
              "          google.colab.kernel.accessAllowed ? 'block' : 'none';\n",
              "\n",
              "        async function convertToInteractive(key) {\n",
              "          const element = document.querySelector('#df-4a4469a7-4e49-47bb-a8fe-d00c3f56a5a3');\n",
              "          const dataTable =\n",
              "            await google.colab.kernel.invokeFunction('convertToInteractive',\n",
              "                                                     [key], {});\n",
              "          if (!dataTable) return;\n",
              "\n",
              "          const docLinkHtml = 'Like what you see? Visit the ' +\n",
              "            '<a target=\"_blank\" href=https://colab.research.google.com/notebooks/data_table.ipynb>data table notebook</a>'\n",
              "            + ' to learn more about interactive tables.';\n",
              "          element.innerHTML = '';\n",
              "          dataTable['output_type'] = 'display_data';\n",
              "          await google.colab.output.renderOutput(dataTable, element);\n",
              "          const docLink = document.createElement('div');\n",
              "          docLink.innerHTML = docLinkHtml;\n",
              "          element.appendChild(docLink);\n",
              "        }\n",
              "      </script>\n",
              "    </div>\n",
              "  </div>\n",
              "  "
            ]
          },
          "metadata": {},
          "execution_count": 2
        }
      ]
    },
    {
      "cell_type": "code",
      "source": [
        "# Defining a function which calculates euclidean distance between two data points\n",
        "def euclideanDistance(data1, data2, length):\n",
        "    distance = 0\n",
        "    for x in range(length):\n",
        "        distance += np.square(data1[x] - data2[x])\n",
        "    return np.sqrt(distance)\n",
        "\n",
        "# Defining our KNN model\n",
        "# This is the approach a Brute force, where distance from all values are calculated then nearest neighbours \n",
        "# with least distance are identified\n",
        "# Brute force performs worst when there are large dimensions and large training set\n",
        "def knn(trainingSet, testInstance, k):\n",
        " \n",
        "    distances = {}\n",
        "    sort = {}\n",
        " \n",
        "    length = testInstance.shape[1]\n",
        "    \n",
        "    #### Start of STEP 3\n",
        "    # Calculating euclidean distance between each row of training data and test data\n",
        "    for x in range(len(trainingSet)):\n",
        "        \n",
        "        #### Start of STEP 3.1\n",
        "        dist = euclideanDistance(testInstance, trainingSet.iloc[x], length)\n",
        "        distances[x] = dist[0]\n",
        "        #### End of STEP 3.1\n",
        " \n",
        "    #### Start of STEP 3.2\n",
        "    # Sorting them on the basis of distance\n",
        "    sorted_d = sorted(distances.items(), key=operator.itemgetter(1))\n",
        "    #### End of STEP 3.2\n",
        " \n",
        "    neighbors = []\n",
        "    \n",
        "    #### Start of STEP 3.3\n",
        "    # Extracting top k neighbors\n",
        "    for x in range(k):\n",
        "        neighbors.append(sorted_d[x][0])\n",
        "    #### End of STEP 3.3\n",
        "    \n",
        "    classVotes = {}\n",
        "    \n",
        "    #### Start of STEP 3.4\n",
        "    # Calculating the most freq class in the neighbors\n",
        "    for x in range(len(neighbors)):\n",
        "        response = trainingSet.iloc[neighbors[x]][-1]\n",
        " \n",
        "        if response in classVotes:\n",
        "            classVotes[response] += 1\n",
        "        else:\n",
        "            classVotes[response] = 1\n",
        "#         print (classVotes)\n",
        "    #### End of STEP 3.4\n",
        "\n",
        "    #### Start of STEP 3.5\n",
        "    sortedVotes = sorted(classVotes.items(), key=operator.itemgetter(1), reverse=True)\n",
        "    print (sortedVotes)\n",
        "    return(sortedVotes[0][0], neighbors)\n",
        "    #### End of STEP 3.5"
      ],
      "metadata": {
        "id": "eYvjzZwAfDOB"
      },
      "execution_count": null,
      "outputs": []
    },
    {
      "cell_type": "code",
      "source": [
        "testSet = [[3.0, 6.0]]\n",
        "test = pd.DataFrame(testSet)"
      ],
      "metadata": {
        "id": "zrDRcU6tfO2I"
      },
      "execution_count": null,
      "outputs": []
    },
    {
      "cell_type": "code",
      "source": [
        "# Setting number of neighbors = 3 \n",
        "k = 3 \n",
        "# Running KNN model \n",
        "result,neigh = knn(SetItem, test, k) \n",
        "# Predicted class \n",
        "print(result)"
      ],
      "metadata": {
        "colab": {
          "base_uri": "https://localhost:8080/"
        },
        "id": "esKTTX_YfVdg",
        "outputId": "a96f9cf6-f96d-4a9e-c896-d62eacc545df"
      },
      "execution_count": null,
      "outputs": [
        {
          "output_type": "stream",
          "name": "stdout",
          "text": [
            "[('B', 3)]\n",
            "B\n"
          ]
        }
      ]
    },
    {
      "cell_type": "code",
      "source": [
        "print(neigh)"
      ],
      "metadata": {
        "colab": {
          "base_uri": "https://localhost:8080/"
        },
        "id": "fyy8VPfKfXng",
        "outputId": "868cd1e5-972c-45de-daa3-9885bc313db0"
      },
      "execution_count": null,
      "outputs": [
        {
          "output_type": "stream",
          "name": "stdout",
          "text": [
            "[2, 4, 3]\n"
          ]
        }
      ]
    }
  ]
}
