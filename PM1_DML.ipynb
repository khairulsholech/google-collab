{
  "nbformat": 4,
  "nbformat_minor": 0,
  "metadata": {
    "colab": {
      "provenance": [],
      "authorship_tag": "ABX9TyPKSQyrsKSyhsL5FAp1wOy+",
      "include_colab_link": true
    },
    "kernelspec": {
      "name": "python3",
      "display_name": "Python 3"
    },
    "language_info": {
      "name": "python"
    }
  },
  "cells": [
    {
      "cell_type": "markdown",
      "metadata": {
        "id": "view-in-github",
        "colab_type": "text"
      },
      "source": [
        "<a href=\"https://colab.research.google.com/github/khairulsholech/google-collab/blob/main/PM1_DML.ipynb\" target=\"_parent\"><img src=\"https://colab.research.google.com/assets/colab-badge.svg\" alt=\"Open In Colab\"/></a>"
      ]
    },
    {
      "cell_type": "code",
      "execution_count": null,
      "metadata": {
        "colab": {
          "base_uri": "https://localhost:8080/"
        },
        "id": "LygVIT7dbeFA",
        "outputId": "73da80f7-7816-4d1d-b0b7-327556fa786b"
      },
      "outputs": [
        {
          "output_type": "stream",
          "name": "stdout",
          "text": [
            "Hello, World!\n"
          ]
        }
      ],
      "source": [
        "print(\"Hello, World!\")"
      ]
    },
    {
      "cell_type": "code",
      "source": [
        "n = int(input(\"Ketik sebuah angka, dan faktorialnya akan diprinted: \"))\n",
        "\n",
        "if n < 0:\n",
        "  raise ValueError(\"Anda harus memasukan bilangan bulat bukan negatif\")\n",
        "\n",
        "faktorial = 1\n",
        "\n",
        "for i in range(2, n+1):\n",
        "  faktorial *=i\n",
        "\n",
        "print(faktorial)"
      ],
      "metadata": {
        "colab": {
          "base_uri": "https://localhost:8080/"
        },
        "id": "njQC0ithbxfV",
        "outputId": "30043a37-f7a0-4b03-b3a8-10ba6bc7318c"
      },
      "execution_count": null,
      "outputs": [
        {
          "output_type": "stream",
          "name": "stdout",
          "text": [
            "Ketik sebuah angka, dan faktorialnya akan diprinted: 4\n",
            "24\n"
          ]
        }
      ]
    },
    {
      "cell_type": "code",
      "source": [
        "class Orang: \n",
        "  def __init__(self, nama): \n",
        "    self.nama = nama \n",
        "    \n",
        "  def tampilkan_nama(self): \n",
        "    return self.nama \n",
        "    \n",
        "orang = Orang(\"Khairul Sholech\") # Initialisasi object \n",
        "\n",
        "print(orang.tampilkan_nama())"
      ],
      "metadata": {
        "colab": {
          "base_uri": "https://localhost:8080/"
        },
        "id": "KOshet5xcnsz",
        "outputId": "97b37d46-5c5f-4a60-85a6-a069f5541049"
      },
      "execution_count": null,
      "outputs": [
        {
          "output_type": "stream",
          "name": "stdout",
          "text": [
            "Khairul Sholech\n"
          ]
        }
      ]
    }
  ]
}