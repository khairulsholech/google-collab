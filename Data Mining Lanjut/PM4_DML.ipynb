{
  "nbformat": 4,
  "nbformat_minor": 0,
  "metadata": {
    "colab": {
      "provenance": [],
      "authorship_tag": "ABX9TyOnZnyD5J/NcLBv7kpIcdMS",
      "include_colab_link": true
    },
    "kernelspec": {
      "name": "python3",
      "display_name": "Python 3"
    },
    "language_info": {
      "name": "python"
    }
  },
  "cells": [
    {
      "cell_type": "markdown",
      "metadata": {
        "id": "view-in-github",
        "colab_type": "text"
      },
      "source": [
        "<a href=\"https://colab.research.google.com/github/khairulsholech/google-collab/blob/main/PM4_DML.ipynb\" target=\"_parent\"><img src=\"https://colab.research.google.com/assets/colab-badge.svg\" alt=\"Open In Colab\"/></a>"
      ]
    },
    {
      "cell_type": "markdown",
      "source": [
        "**PERCABANGAN**"
      ],
      "metadata": {
        "id": "1GbSEoXgdi2G"
      }
    },
    {
      "cell_type": "markdown",
      "source": [
        "Struktur Percabangan if"
      ],
      "metadata": {
        "id": "kQu6oahgedvD"
      }
    },
    {
      "cell_type": "code",
      "execution_count": null,
      "metadata": {
        "colab": {
          "base_uri": "https://localhost:8080/"
        },
        "id": "cuBuWwaidVPk",
        "outputId": "06c48291-7af4-4dac-a7d2-3ec02eda3961"
      },
      "outputs": [
        {
          "output_type": "stream",
          "name": "stdout",
          "text": [
            "Apakah kamu lulus? [ya/tidak] :tidak\n",
            "kamu harus ikut remedi\n"
          ]
        }
      ],
      "source": [
        "lulus = input(\"Apakah kamu lulus? [ya/tidak]: \")\n",
        "if lulus == \"tidak\":\n",
        "  print(\"kamu harus ikut remedi\")"
      ]
    },
    {
      "cell_type": "code",
      "source": [
        "#Program untuk mengecek bonus dan diskon\n",
        "\n",
        "total_belanja = int(input(\"Total belanja : Rp \"))\n",
        "\n",
        "#jumlah yang harus dibayar adalah berapa total belanjanya\n",
        "#tapi kalau dapat diskon akan berkurang\n",
        "bayar = total_belanja\n",
        "\n",
        "#jika dia belanja diatas 100rb maka diberikan bonus dan diskon\n",
        "if total_belanja > 100000:\n",
        "  print(\"Kamu mendapatkan bonus minuman dingin\")\n",
        "  print(\"dan diskon 5%\")\n",
        "\n",
        "  #hitung diskonnya\n",
        "  diskon = total_belanja * 5/100 #5%\n",
        "  bayar = total_belanja - diskon\n",
        "\n",
        "#Cetak Struk\n",
        "print(\"Total yang harus diabayar : Rp %s\" % bayar)\n",
        "print(\"Terimakasih sudah berbelanja\")\n",
        "print(\"Datang lagi ya...\")"
      ],
      "metadata": {
        "colab": {
          "base_uri": "https://localhost:8080/"
        },
        "id": "oHU6xeJffYPi",
        "outputId": "e44ccbf8-1d28-46f2-8078-7f643e9faf9e"
      },
      "execution_count": null,
      "outputs": [
        {
          "output_type": "stream",
          "name": "stdout",
          "text": [
            "Total belanja : Rp 101000\n",
            "Kamu mendapatkan bonus minuman dingin\n",
            "dan diskon 5%\n",
            "Total yang harus diabayar : Rp 95950.0\n",
            "Terimakasih sudah berbelanja\n",
            "Datang lagi ya...\n"
          ]
        }
      ]
    },
    {
      "cell_type": "markdown",
      "source": [
        "Struktur Percabangan if/else"
      ],
      "metadata": {
        "id": "YIUU5e6_i0Yo"
      }
    },
    {
      "cell_type": "code",
      "source": [
        "umur = int(input(\"Berapa umur kamu : \"))\n",
        "\n",
        "if umur >= 18:\n",
        "  print(\"Kamu boleh membuat SIM\")\n",
        "else:\n",
        "  print(\"Kamu belum boleh membuat SIM\")"
      ],
      "metadata": {
        "colab": {
          "base_uri": "https://localhost:8080/"
        },
        "id": "kC4blHgdiTP4",
        "outputId": "c36b47ff-10a3-49b6-aa11-a8df3662ea7d"
      },
      "execution_count": null,
      "outputs": [
        {
          "output_type": "stream",
          "name": "stdout",
          "text": [
            "Berapa umur kamu : 18\n",
            "Kamu boleh membuat SIM\n"
          ]
        }
      ]
    },
    {
      "cell_type": "markdown",
      "source": [
        "Struktur Percabangan if/elseif/else"
      ],
      "metadata": {
        "id": "jYixtr3fljvB"
      }
    },
    {
      "cell_type": "code",
      "source": [
        "nilai = int(input(\"Inputkan nilaimu: \"))\n",
        "if nilai >= 90:\n",
        "  grade = \"A\"\n",
        "elif nilai >= 80:\n",
        "  grade = \"B+\"\n",
        "elif nilai >= 70:\n",
        "  grade = \"B\"\n",
        "elif nilai >= 60:\n",
        "  grade = \"C+\"\n",
        "elif nilai >= 50:\n",
        "  grade = \"C\"\n",
        "elif nilai >= 40:\n",
        "  grade = \"D\"\n",
        "else:\n",
        "  grade = \"E\"\n",
        "print(\"Grade: %s\" % grade)"
      ],
      "metadata": {
        "colab": {
          "base_uri": "https://localhost:8080/"
        },
        "id": "P7AMqm7XjRfX",
        "outputId": "e12f4b95-0eae-4051-b992-0a6751e495b2"
      },
      "execution_count": null,
      "outputs": [
        {
          "output_type": "stream",
          "name": "stdout",
          "text": [
            "Inputkan nilaimu: 30\n",
            "Grade: E\n"
          ]
        }
      ]
    },
    {
      "cell_type": "markdown",
      "source": [
        "**PERULANGAN/LOOPING**"
      ],
      "metadata": {
        "id": "4IjFnj0Ym46S"
      }
    },
    {
      "cell_type": "markdown",
      "source": [
        "1. Perulangan For"
      ],
      "metadata": {
        "id": "Y_vQ-aVmnFAE"
      }
    },
    {
      "cell_type": "code",
      "source": [
        "ulang = 10\n",
        "for i in range(ulang):\n",
        "  print(f\"Perulangan ke-{i}\")"
      ],
      "metadata": {
        "colab": {
          "base_uri": "https://localhost:8080/"
        },
        "id": "8DL0wjvnm8nc",
        "outputId": "f5fee5f8-4702-4553-c8cc-e741827c156e"
      },
      "execution_count": null,
      "outputs": [
        {
          "output_type": "stream",
          "name": "stdout",
          "text": [
            "Perulangan ke-0\n",
            "Perulangan ke-1\n",
            "Perulangan ke-2\n",
            "Perulangan ke-3\n",
            "Perulangan ke-4\n",
            "Perulangan ke-5\n",
            "Perulangan ke-6\n",
            "Perulangan ke-7\n",
            "Perulangan ke-8\n",
            "Perulangan ke-9\n"
          ]
        }
      ]
    },
    {
      "cell_type": "code",
      "source": [
        "item = ['kopi', 'nasi', 'teh', 'jeruk']\n",
        "for isi in item:\n",
        "  print(isi)"
      ],
      "metadata": {
        "colab": {
          "base_uri": "https://localhost:8080/"
        },
        "id": "PSRBWuXNnhwU",
        "outputId": "03906ea5-f33a-48c3-e306-7ff37ea13a6c"
      },
      "execution_count": null,
      "outputs": [
        {
          "output_type": "stream",
          "name": "stdout",
          "text": [
            "kopi\n",
            "nasi\n",
            "teh\n",
            "jeruk\n"
          ]
        }
      ]
    },
    {
      "cell_type": "markdown",
      "source": [
        "2. Perulangan While"
      ],
      "metadata": {
        "id": "OJZ4C9i8nt5z"
      }
    },
    {
      "cell_type": "code",
      "source": [
        "jawab = 'ya'\n",
        "hitung=0\n",
        "while(jawab=='ya'):\n",
        "  hitung += 1\n",
        "  jawab = input(\"Ulang lagi tidak? \")\n",
        "print(f\"Total perulangan : {hitung}\")"
      ],
      "metadata": {
        "colab": {
          "base_uri": "https://localhost:8080/"
        },
        "id": "4rQp5JxPnwv0",
        "outputId": "6a9bbd4c-c7ce-453f-d2b7-199953641613"
      },
      "execution_count": null,
      "outputs": [
        {
          "output_type": "stream",
          "name": "stdout",
          "text": [
            "Ulang lagi tidak? ya\n",
            "Ulang lagi tidak? ya\n",
            "Ulang lagi tidak? ya\n",
            "Ulang lagi tidak? tidak\n",
            "Total perulangan : 4\n"
          ]
        }
      ]
    },
    {
      "cell_type": "code",
      "source": [
        "jawab = 'ya'\n",
        "hitung = 0\n",
        "while(True):\n",
        "  hitung += 1\n",
        "  jawab = input(\"Ulang lagi tidak? \")\n",
        "  if jawab == 'tidak':\n",
        "    break\n",
        "print(f\"Total perulagan: {hitung}\")"
      ],
      "metadata": {
        "colab": {
          "base_uri": "https://localhost:8080/"
        },
        "id": "tcMKH_nrsmYp",
        "outputId": "8ac7f7ed-d385-49d1-996e-3aa76e979803"
      },
      "execution_count": null,
      "outputs": [
        {
          "output_type": "stream",
          "name": "stdout",
          "text": [
            "Ulang lagi tidak? ya\n",
            "Ulang lagi tidak? ya\n",
            "Ulang lagi tidak? tidak\n",
            "Total perulagan: 3\n"
          ]
        }
      ]
    },
    {
      "cell_type": "markdown",
      "source": [
        "**LATIHAN**"
      ],
      "metadata": {
        "id": "pnFXrcMBs3ai"
      }
    },
    {
      "cell_type": "markdown",
      "source": [
        "**Kelompok 3**\n",
        "- Aliffio Syah Maulana - 41519120065\n",
        "- Khairul Sholech - 41519120068\n",
        "- Reza Arrofi - 41519120044"
      ],
      "metadata": {
        "id": "n-i0yyd6s6-y"
      }
    },
    {
      "cell_type": "markdown",
      "source": [
        "Mencari bilangan terbesar"
      ],
      "metadata": {
        "id": "w1bM-i5htdO5"
      }
    },
    {
      "cell_type": "code",
      "source": [
        "a, b, c = (\n",
        "    int(input(\"Masukan nilai a : \")),\n",
        "    int(input(\"Masukan nilai b : \")),\n",
        "    int(input(\"Masukan nilai c : \"))\n",
        ")\n",
        "\n",
        "if a > b and a > c:\n",
        "  print(\"A yang terbesar\")\n",
        "elif b > a and b > c:\n",
        "  print(\"B yang terbesar\")\n",
        "else:\n",
        "  print(\"C yang terbesar\")"
      ],
      "metadata": {
        "colab": {
          "base_uri": "https://localhost:8080/"
        },
        "id": "3TRoIOF7tRYK",
        "outputId": "8488d025-8cae-485a-d303-05140c26d7d6"
      },
      "execution_count": null,
      "outputs": [
        {
          "output_type": "stream",
          "name": "stdout",
          "text": [
            "Masukan nilai a : 40\n",
            "Masukan nilai b : 80\n",
            "Masukan nilai c : 90\n",
            "C yang terbesar\n"
          ]
        }
      ]
    },
    {
      "cell_type": "markdown",
      "source": [
        "Nilai Ganjil Genap"
      ],
      "metadata": {
        "id": "QoXI6GrMyCWq"
      }
    },
    {
      "cell_type": "code",
      "source": [
        "print('Masukkan nilai awal dan nilai akhir')\n",
        "\n",
        "nilai_awal = int(input(' nilai awal: '))\n",
        "nilai_akhir = int(input(' nilai akhir: '))\n",
        "\n",
        "print(\"\"\"\\nTampilkan bilangan\n",
        "  1. Ganjil\n",
        "  2. Genap\"\"\")\n",
        "\n",
        "pilihan = int(input('Pilihan: '))\n",
        "\n",
        "# periksa kalau pilihan bukan 1 dan 2\n",
        "if pilihan not in [1, 2]:\n",
        "  print('Pilihan salah')\n",
        "else:\n",
        "  for x in range(nilai_awal, nilai_akhir + 1):\n",
        "    if pilihan == 1 and x % 2 == 1:\n",
        "      print(x, end=' ')\n",
        "    elif pilihan == 2 and x % 2 == 0:\n",
        "      print(x, end=' ')\n",
        "    else:\n",
        "# ganti baris ketika perulangan selesai\n",
        "      print(\"\")"
      ],
      "metadata": {
        "colab": {
          "base_uri": "https://localhost:8080/"
        },
        "id": "mik3VZ9XyFtJ",
        "outputId": "d4213469-7754-4c0b-cee4-2a1027b2c841"
      },
      "execution_count": null,
      "outputs": [
        {
          "output_type": "stream",
          "name": "stdout",
          "text": [
            "Masukkan nilai awal dan nilai akhir\n",
            " nilai awal: 1\n",
            " nilai akhir: 10\n",
            "\n",
            "Tampilkan bilangan\n",
            "  1. Ganjil\n",
            "  2. Genap\n",
            "Pilihan: 2\n",
            "\n",
            "2 \n",
            "4 \n",
            "6 \n",
            "8 \n",
            "10 "
          ]
        }
      ]
    }
  ]
}
