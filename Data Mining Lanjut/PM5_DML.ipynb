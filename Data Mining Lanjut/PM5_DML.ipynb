{
  "nbformat": 4,
  "nbformat_minor": 0,
  "metadata": {
    "colab": {
      "provenance": [],
      "authorship_tag": "ABX9TyN2HQ5whwX+Vs6kauftxRhi",
      "include_colab_link": true
    },
    "kernelspec": {
      "name": "python3",
      "display_name": "Python 3"
    },
    "language_info": {
      "name": "python"
    }
  },
  "cells": [
    {
      "cell_type": "markdown",
      "metadata": {
        "id": "view-in-github",
        "colab_type": "text"
      },
      "source": [
        "<a href=\"https://colab.research.google.com/github/khairulsholech/google-collab/blob/main/PM5_DML.ipynb\" target=\"_parent\"><img src=\"https://colab.research.google.com/assets/colab-badge.svg\" alt=\"Open In Colab\"/></a>"
      ]
    },
    {
      "cell_type": "markdown",
      "source": [
        "**STRUKTUR DATA LIST**"
      ],
      "metadata": {
        "id": "nwaznn3nb1Ds"
      }
    },
    {
      "cell_type": "markdown",
      "source": [
        "Cara Membuat List di Python"
      ],
      "metadata": {
        "id": "ttqhZKI8KcKq"
      }
    },
    {
      "cell_type": "code",
      "execution_count": null,
      "metadata": {
        "colab": {
          "base_uri": "https://localhost:8080/"
        },
        "id": "7J2iweZWbtXI",
        "outputId": "a0898585-1c3d-4e50-a578-410d85a81eaa"
      },
      "outputs": [
        {
          "output_type": "stream",
          "name": "stdout",
          "text": [
            "mangga\n"
          ]
        }
      ],
      "source": [
        "# Kita punya list nama-nama buah\n",
        "buah = [\"apel\", \"anggur\", \"mangga\", \"jeruk\"]\n",
        "# Misanya kita ingin mengambil mangga\n",
        "# Maka indeknya adalah 2\n",
        "print (buah[2])"
      ]
    },
    {
      "cell_type": "code",
      "source": [
        "# Buat list untuk menampung nama-nama teman\n",
        "my_friends = [\"Anggun\", \"Dian\", \"Agung\", \"Adi\", \"Adam\"]\n",
        "\n",
        "# Tampilkan isi list my_friends dengan nomer indeks 3\n",
        "print (\"Isi my_friends indeks ke-3 adalah: {}\".format(my_friends[3]))\n",
        "\n",
        "# Tampilkan semua daftar teman\n",
        "print (\"Semua teman: ada {} orang\".format(len(my_friends)))\n",
        "for friend in my_friends:\n",
        "  print (friend)"
      ],
      "metadata": {
        "colab": {
          "base_uri": "https://localhost:8080/"
        },
        "id": "YAUAxqByb8Rz",
        "outputId": "ddee3564-8dfb-4fbf-86f9-69d6baae7941"
      },
      "execution_count": null,
      "outputs": [
        {
          "output_type": "stream",
          "name": "stdout",
          "text": [
            "Isi my_friends indeks ke-3 adalah: Adi\n",
            "Semua teman: ada 5 orang\n",
            "Anggun\n",
            "Dian\n",
            "Agung\n",
            "Adi\n",
            "Adam\n"
          ]
        }
      ]
    },
    {
      "cell_type": "markdown",
      "source": [
        "Mengganti Nilai List"
      ],
      "metadata": {
        "id": "efInghEuKiwg"
      }
    },
    {
      "cell_type": "code",
      "source": [
        "# list mula-mula\n",
        "buah = [\"jeruk\", \"apel\", \"mangga\", \"duren\"]\n",
        "# mengubah nilai index ke-2\n",
        "buah[2] = \"kelapa\"\n",
        "print (buah[2])"
      ],
      "metadata": {
        "colab": {
          "base_uri": "https://localhost:8080/"
        },
        "id": "m762Y2lhKnAq",
        "outputId": "1d87bec6-911a-482b-bc2a-8f92d4ca2918"
      },
      "execution_count": null,
      "outputs": [
        {
          "output_type": "stream",
          "name": "stdout",
          "text": [
            "kelapa\n"
          ]
        }
      ]
    },
    {
      "cell_type": "markdown",
      "source": [
        "Menambahkan Item List"
      ],
      "metadata": {
        "id": "pD_MsKW1LOyH"
      }
    },
    {
      "cell_type": "code",
      "source": [
        "# list mula-mula\n",
        "buah = [\"jeruk\", \"apel\", \"mangga\", \"duren\"]\n",
        "# Tambahkan manggis\n",
        "buah.append(\"manggis\")\n",
        "print (buah)"
      ],
      "metadata": {
        "colab": {
          "base_uri": "https://localhost:8080/"
        },
        "id": "M0511qscKYNu",
        "outputId": "eaf10824-f149-44a9-8004-414d443c45f2"
      },
      "execution_count": null,
      "outputs": [
        {
          "output_type": "stream",
          "name": "stdout",
          "text": [
            "['jeruk', 'apel', 'mangga', 'duren', 'manggis']\n"
          ]
        }
      ]
    },
    {
      "cell_type": "code",
      "source": [
        "# list mula-mula\n",
        "buah = [\"jeruk\", \"apel\", \"mangga\", \"duren\"]\n",
        "# Tambahkan anggur\n",
        "buah.insert(2,\"anggur\")\n",
        "print (buah)"
      ],
      "metadata": {
        "colab": {
          "base_uri": "https://localhost:8080/"
        },
        "id": "hO8sQqkoLr-b",
        "outputId": "21ce9598-7ac9-4acd-931f-8779677a5328"
      },
      "execution_count": null,
      "outputs": [
        {
          "output_type": "stream",
          "name": "stdout",
          "text": [
            "['jeruk', 'apel', 'anggur', 'mangga', 'duren']\n"
          ]
        }
      ]
    },
    {
      "cell_type": "code",
      "source": [
        "# Membuat list kosong untuk menampung hobi\n",
        "hobi = []\n",
        "stop = False\n",
        "i = 0\n",
        "\n",
        "# Mengisi hobi\n",
        "while(not stop):\n",
        "  hobi_baru = input(\"Inputkan hobi yang ke-{} \".format(i))\n",
        "  hobi.append(hobi_baru)\n",
        "  #increment\n",
        "  i+=1\n",
        "\n",
        "  tanya = input(\"Mau isi lagi? (y/t): \")\n",
        "  if(tanya==\"t\"):\n",
        "    stop=True\n",
        "\n",
        "# Cetak Semua hobi\n",
        "print(\"=\"*10)\n",
        "print(\"Kamu memiliki {} hobi yaitu :\".format(len(hobi)))\n",
        "for hb in hobi:\n",
        "  print(\"-{}\".format(hb))"
      ],
      "metadata": {
        "colab": {
          "base_uri": "https://localhost:8080/"
        },
        "id": "Dr7eo6ERMSlg",
        "outputId": "903c0137-795a-4c09-8d3e-ad913a2fdeda"
      },
      "execution_count": null,
      "outputs": [
        {
          "output_type": "stream",
          "name": "stdout",
          "text": [
            "Inputkan hobi yang ke-0 baca komik\n",
            "Mau isi lagi? (y/t): y\n",
            "Inputkan hobi yang ke-1 menulis\n",
            "Mau isi lagi? (y/t): y\n",
            "Inputkan hobi yang ke-2 Ngoding\n",
            "Mau isi lagi? (y/t): y\n",
            "Inputkan hobi yang ke-3 Main game\n",
            "Mau isi lagi? (y/t): t\n",
            "==========\n",
            "Kamu memiliki 4 hobi yaitu :\n",
            "-baca komik\n",
            "-menulis\n",
            "-Ngoding\n",
            "-Main game\n"
          ]
        }
      ]
    },
    {
      "cell_type": "markdown",
      "source": [
        "Menghapus Item di List"
      ],
      "metadata": {
        "id": "A5nsmVx_OHtF"
      }
    },
    {
      "cell_type": "code",
      "source": [
        "# Membuat List\n",
        "todo_list = [\n",
        "    \"Belajar Python\",\n",
        "    \"Belajar Django\",\n",
        "    \"Belajar MongoDB\",\n",
        "    \"Belajar Sulap\",\n",
        "    \"Belajar Flask\"\n",
        "]\n",
        "\n",
        "# Misalkan kita ingin menghapus \"Belajar Sulap\"\n",
        "#yang berada di indeks ke-3\n",
        "del todo_list[3]\n",
        "\n",
        "print (todo_list)"
      ],
      "metadata": {
        "colab": {
          "base_uri": "https://localhost:8080/"
        },
        "id": "DQkQxcgCOK5L",
        "outputId": "d6edb670-977c-4cb0-9445-6544b12987ec"
      },
      "execution_count": null,
      "outputs": [
        {
          "output_type": "stream",
          "name": "stdout",
          "text": [
            "['Belajar Python', 'Belajar Django', 'Belajar MongoDB', 'Belajar Flask']\n"
          ]
        }
      ]
    }
  ]
}
