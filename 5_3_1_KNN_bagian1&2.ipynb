{
  "nbformat": 4,
  "nbformat_minor": 0,
  "metadata": {
    "colab": {
      "provenance": [],
      "authorship_tag": "ABX9TyNPVqCb3qKAFmubxfvyP5O5",
      "include_colab_link": true
    },
    "kernelspec": {
      "name": "python3",
      "display_name": "Python 3"
    },
    "language_info": {
      "name": "python"
    }
  },
  "cells": [
    {
      "cell_type": "markdown",
      "metadata": {
        "id": "view-in-github",
        "colab_type": "text"
      },
      "source": [
        "<a href=\"https://colab.research.google.com/github/khairulsholech/google-collab/blob/main/5_3_1_KNN_bagian1%262.ipynb\" target=\"_parent\"><img src=\"https://colab.research.google.com/assets/colab-badge.svg\" alt=\"Open In Colab\"/></a>"
      ]
    },
    {
      "cell_type": "markdown",
      "source": [
        "NAMA : Khairul Sholech\n",
        "\n",
        "NIM  : 41519120068\n",
        "\n",
        "MATKUL : MACHINE LEARNING\n",
        "\n",
        "KELOMPOK 2"
      ],
      "metadata": {
        "id": "uDSdVZ2l60dq"
      }
    },
    {
      "cell_type": "markdown",
      "source": [
        "**KLASIFIKASI BUNGA IRIS**"
      ],
      "metadata": {
        "id": "TMz9wcI068k1"
      }
    },
    {
      "cell_type": "markdown",
      "source": [
        "Memanggil libarary"
      ],
      "metadata": {
        "id": "tNlKMPl28Lrk"
      }
    },
    {
      "cell_type": "code",
      "execution_count": null,
      "metadata": {
        "id": "NUZadGWX6XZM"
      },
      "outputs": [],
      "source": [
        "#Memanggil pandas untuk memanipulasi data\n",
        "import pandas as pd\n",
        "#Memanggil matplotlib untuk grafik\n",
        "import matplotlib.pyplot as plt\n",
        "from matplotlib.colors import ListedColormap\n",
        "#Memanggil library sklearn untuk import dataset\n",
        "from sklearn import datasets\n",
        "#Memanggil library sklean untuk KNN Clasifier\n",
        "from sklearn.neighbors import KNeighborsClassifier"
      ]
    },
    {
      "cell_type": "markdown",
      "source": [
        "Memanggil Dataset"
      ],
      "metadata": {
        "id": "DOKAI1g38Qu4"
      }
    },
    {
      "cell_type": "code",
      "source": [
        "#Memanggil IRIS dataset dari obyek sklearn\n",
        "#memasukkannya ke dalam variable bunga\n",
        "bunga = datasets.load_iris()\n",
        "\n",
        "#Menampilkan tipe obyek dari bunga\n",
        "print(type(bunga))"
      ],
      "metadata": {
        "colab": {
          "base_uri": "https://localhost:8080/"
        },
        "id": "s2p5cs1G8Ik1",
        "outputId": "942c1580-8de3-4cb8-ce81-ecf2d584bbf9"
      },
      "execution_count": null,
      "outputs": [
        {
          "output_type": "stream",
          "name": "stdout",
          "text": [
            "<class 'sklearn.utils.Bunch'>\n"
          ]
        }
      ]
    },
    {
      "cell_type": "code",
      "source": [
        "#Menampilkan jumlah bari dan kolom dari dataset\n",
        "print(bunga.data.shape)"
      ],
      "metadata": {
        "colab": {
          "base_uri": "https://localhost:8080/"
        },
        "id": "1fCc_2b09EVE",
        "outputId": "b17ec989-f2d7-476f-a91a-2b53417c6cb9"
      },
      "execution_count": null,
      "outputs": [
        {
          "output_type": "stream",
          "name": "stdout",
          "text": [
            "(150, 4)\n"
          ]
        }
      ]
    },
    {
      "cell_type": "code",
      "source": [
        "#Menampilkan target set dari data\n",
        "print(bunga.target_names)"
      ],
      "metadata": {
        "colab": {
          "base_uri": "https://localhost:8080/"
        },
        "id": "de7N2N_B9RoF",
        "outputId": "b4694910-5732-466a-8c84-810dcb4da585"
      },
      "execution_count": null,
      "outputs": [
        {
          "output_type": "stream",
          "name": "stdout",
          "text": [
            "['setosa' 'versicolor' 'virginica']\n"
          ]
        }
      ]
    },
    {
      "cell_type": "markdown",
      "source": [
        "Menampilkan data"
      ],
      "metadata": {
        "id": "FQCzmR0r9NxE"
      }
    },
    {
      "cell_type": "code",
      "source": [
        "#Memanggil training dataset\n",
        "X = bunga.data\n",
        "\n",
        "#Memanggil target set\n",
        "Y = bunga.target\n",
        "\n",
        "#Melakukan konversi tipe datasets kedalam tipe dataframe\n",
        "df = pd.DataFrame(X, columns=bunga.feature_names)\n",
        "\n",
        "#Mencetak 5 data pertama dari dataframe\n",
        "print(df.head())"
      ],
      "metadata": {
        "colab": {
          "base_uri": "https://localhost:8080/"
        },
        "id": "B8womTTH9MvG",
        "outputId": "8c009dea-68c5-4e2d-d860-26c88a954d6e"
      },
      "execution_count": null,
      "outputs": [
        {
          "output_type": "stream",
          "name": "stdout",
          "text": [
            "   sepal length (cm)  sepal width (cm)  petal length (cm)  petal width (cm)\n",
            "0                5.1               3.5                1.4               0.2\n",
            "1                4.9               3.0                1.4               0.2\n",
            "2                4.7               3.2                1.3               0.2\n",
            "3                4.6               3.1                1.5               0.2\n",
            "4                5.0               3.6                1.4               0.2\n"
          ]
        }
      ]
    },
    {
      "cell_type": "markdown",
      "source": [
        "Memanggil KNN dan Melakukan Training"
      ],
      "metadata": {
        "id": "dtNAuOr5-IQR"
      }
    },
    {
      "cell_type": "code",
      "source": [
        "#Memanggil KNN Classifier\n",
        "knn = KNeighborsClassifier(n_neighbors=6,\n",
        "                           weights='uniform',\n",
        "                           algorithm='auto',\n",
        "                           metric='euclidean')\n",
        "\n",
        "#Fitting model dengan training data dan target\n",
        "x_train = bunga['data']\n",
        "y_train = bunga ['target']\n",
        "knn.fit(x_train, y_train)"
      ],
      "metadata": {
        "colab": {
          "base_uri": "https://localhost:8080/"
        },
        "id": "lgCwidUy-FG7",
        "outputId": "c99cf30c-5c7e-44e6-819c-b4b09563d382"
      },
      "execution_count": null,
      "outputs": [
        {
          "output_type": "execute_result",
          "data": {
            "text/plain": [
              "KNeighborsClassifier(metric='euclidean', n_neighbors=6)"
            ]
          },
          "metadata": {},
          "execution_count": 8
        }
      ]
    },
    {
      "cell_type": "markdown",
      "source": [
        "Contoh Melakukan Prediksi/Klasifikasi"
      ],
      "metadata": {
        "id": "6RCyaM_V_Don"
      }
    },
    {
      "cell_type": "code",
      "source": [
        "#Data yang akan diprediksi\n",
        "Data = [[6.2, 1.5, 4.2, 2.6]]\n",
        "\n",
        "#Melakukan prediksi berdasarkan\n",
        "y_pred = knn.predict(Data)\n",
        "\n",
        "#Mencetak hasil prediksi\n",
        "#Hasil 0 adalah Sentosa\n",
        "#Hasil 1 adalah Bersicolor\n",
        "#Hasil 2 adalah virginica\n",
        "print(\"Hasil Prediksi : Jenis Bunga\", y_pred)"
      ],
      "metadata": {
        "colab": {
          "base_uri": "https://localhost:8080/"
        },
        "id": "ribJXMhK_Hgh",
        "outputId": "7333c57c-d0c5-4c66-8e76-6bf2bedda3ed"
      },
      "execution_count": null,
      "outputs": [
        {
          "output_type": "stream",
          "name": "stdout",
          "text": [
            "Hasil Prediksi : Jenis Bunga [2]\n"
          ]
        }
      ]
    },
    {
      "cell_type": "code",
      "source": [],
      "metadata": {
        "id": "Mf1P-EU5_yEK"
      },
      "execution_count": null,
      "outputs": []
    }
  ]
}