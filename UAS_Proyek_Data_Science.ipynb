{
  "nbformat": 4,
  "nbformat_minor": 0,
  "metadata": {
    "colab": {
      "provenance": [],
      "authorship_tag": "ABX9TyNS8DjxhvTsTThNihkC1vXs",
      "include_colab_link": true
    },
    "kernelspec": {
      "name": "python3",
      "display_name": "Python 3"
    },
    "language_info": {
      "name": "python"
    }
  },
  "cells": [
    {
      "cell_type": "markdown",
      "metadata": {
        "id": "view-in-github",
        "colab_type": "text"
      },
      "source": [
        "<a href=\"https://colab.research.google.com/github/khairulsholech/google-collab/blob/main/UAS_Proyek_Data_Science.ipynb\" target=\"_parent\"><img src=\"https://colab.research.google.com/assets/colab-badge.svg\" alt=\"Open In Colab\"/></a>"
      ]
    },
    {
      "cell_type": "markdown",
      "source": [
        "3. Apa keluaran dari kode Python ini? Berikan penjelasan singkat Anda untuk setiap nomor."
      ],
      "metadata": {
        "id": "FIFsFkYRevk1"
      }
    },
    {
      "cell_type": "markdown",
      "source": [
        "1. Hello, World!"
      ],
      "metadata": {
        "id": "smEmHd-Qe3Af"
      }
    },
    {
      "cell_type": "code",
      "execution_count": null,
      "metadata": {
        "colab": {
          "base_uri": "https://localhost:8080/"
        },
        "id": "tTjU64YVeo_w",
        "outputId": "99127954-84d1-4c22-9c52-b01b736b932b"
      },
      "outputs": [
        {
          "output_type": "stream",
          "name": "stdout",
          "text": [
            "This Line will be printed\n",
            "x is 1\n",
            "Hello, World!\n"
          ]
        }
      ],
      "source": [
        "#Ini adalah program sederhana yang akan mengeksekusi beberapa perintah\n",
        "\n",
        "# mencetak \"This Line will be printed\"\n",
        "print(\"This Line will be printed\") \n",
        "x = 1 #deklarasi variable x dengan nilai 1\n",
        "if x == 1: #kondisi jika x sama dengan 1\n",
        "  print(\"x is 1\") #mencetak \"x is 1\"\n",
        "  \n",
        "print(\"Hello, World!\") # mencetak \"Hello, World!\""
      ]
    },
    {
      "cell_type": "markdown",
      "source": [
        "2. Variables and Types"
      ],
      "metadata": {
        "id": "eaJ-NtQwftnS"
      }
    },
    {
      "cell_type": "code",
      "source": [
        "myint = 7 #deklarasi variable myint dengan nilai 7\n",
        "print(myint) #mencetak nilai dari myint"
      ],
      "metadata": {
        "colab": {
          "base_uri": "https://localhost:8080/"
        },
        "id": "HemK8zVWfNZG",
        "outputId": "9b50f6bd-ef4c-43c3-8b8a-0f88bdc37713"
      },
      "execution_count": null,
      "outputs": [
        {
          "output_type": "stream",
          "name": "stdout",
          "text": [
            "7\n"
          ]
        }
      ]
    },
    {
      "cell_type": "code",
      "source": [
        "myfloat = 7.0 #deklarasi variable myfloat dengan nilai 7.0\n",
        "print(myfloat)\n",
        "myfloat = float(7) #mengubah tipe data dari integer menjadi float\n",
        "print(myfloat)"
      ],
      "metadata": {
        "colab": {
          "base_uri": "https://localhost:8080/"
        },
        "id": "2021M6-pkvr9",
        "outputId": "89ecf2f8-c7a0-415e-9d7a-43988cd0bbd2"
      },
      "execution_count": null,
      "outputs": [
        {
          "output_type": "stream",
          "name": "stdout",
          "text": [
            "7.0\n",
            "7.0\n"
          ]
        }
      ]
    },
    {
      "cell_type": "code",
      "source": [
        "mystring = 'hello' #deklarasi variable mystring dengan nilai 'hello'\n",
        "print(mystring)\n",
        "mystring = \"hello\" #deklarasi variable mystring dengan nilai \"hello\"\n",
        "print(mystring)"
      ],
      "metadata": {
        "colab": {
          "base_uri": "https://localhost:8080/"
        },
        "id": "9CcZ8MJUk1RV",
        "outputId": "8cc993dc-10a8-4ce6-a131-126e6eb67d09"
      },
      "execution_count": null,
      "outputs": [
        {
          "output_type": "stream",
          "name": "stdout",
          "text": [
            "hello\n",
            "7\n"
          ]
        }
      ]
    },
    {
      "cell_type": "code",
      "source": [
        "mystring = \"Don't worry about apostrophes\" #deklarasi variable mystring dengan nilai \"Don't worry about apostrophes\"\n",
        "print(mystring)"
      ],
      "metadata": {
        "colab": {
          "base_uri": "https://localhost:8080/"
        },
        "id": "cw-3JkMtlC6r",
        "outputId": "7bb786ee-826c-4bf9-a828-8a6cd950d07b"
      },
      "execution_count": null,
      "outputs": [
        {
          "output_type": "stream",
          "name": "stdout",
          "text": [
            "Don't worry about apostrophes\n"
          ]
        }
      ]
    },
    {
      "cell_type": "code",
      "source": [
        "one = 1 #deklarasi variable one dengan nilai 1\n",
        "two = 2 #deklarasi variable two dengan nilai 2\n",
        "three = one + two #penjumlahan dari variable one dan two\n",
        "print(three)\n",
        "\n",
        "hello = \"hello\" #deklarasi variable hello dengan nilai \"hello\"\n",
        "world = \"world\" #deklarasi variable world dengan nilai \"world\"\n",
        "helloworld = hello + \" \" + world #penggabungan variable hello dan world dengan spasi\n",
        "print(helloworld)"
      ],
      "metadata": {
        "colab": {
          "base_uri": "https://localhost:8080/"
        },
        "id": "nJCVpNBclWlW",
        "outputId": "efd44084-d425-4067-8e41-7679d4f46105"
      },
      "execution_count": null,
      "outputs": [
        {
          "output_type": "stream",
          "name": "stdout",
          "text": [
            "3\n",
            "hello world\n"
          ]
        }
      ]
    },
    {
      "cell_type": "code",
      "source": [
        "mystring = \"hello\" #deklarasi variable mystring dengan nilai \"hello\"\n",
        "myfloat = 10.0 #deklarasi variable myfloat dengan nilai 10.0\n",
        "myint = 20 #deklarasi variable myint dengan nilai 20\n",
        "\n",
        "#testing code\n",
        "if mystring == \"hello\": #mengecek apakah variable mystring sama dengan \"hello\"\n",
        "  print(\"String: %s\" % mystring) #jika iya, mencetak \"String: hello\"\n",
        "if isinstance(myfloat, float) and myfloat == 10.0: #mengecek apakah variable myfloat adalah tipe data float dan sama dengan 10.0\n",
        "  print(\"Float: %f\" % myfloat) #jika iya, mencetak \"Float: 10.000000\"\n",
        "if isinstance(myint, int) and myint == 20: #mengecek apakah variable myint adalah tipe data integer dan sama dengan 20\n",
        "  print(\"Integer : %d\" % myint) #jika iya, mencetak \"Integer: 20\""
      ],
      "metadata": {
        "colab": {
          "base_uri": "https://localhost:8080/"
        },
        "id": "8FNf0CHLlcsM",
        "outputId": "7cd5eea7-118b-4780-849f-1f8b38cd07a1"
      },
      "execution_count": null,
      "outputs": [
        {
          "output_type": "stream",
          "name": "stdout",
          "text": [
            "String: hello\n",
            "Float: 10.000000\n",
            "Integer : 20\n"
          ]
        }
      ]
    },
    {
      "cell_type": "markdown",
      "source": [
        "3. List"
      ],
      "metadata": {
        "id": "J4LgW-pLiCbH"
      }
    },
    {
      "cell_type": "code",
      "source": [
        "mylist = [] #deklarasi list kosong\n",
        "mylist.append(1) #menambahkan nilai 1 pada list\n",
        "mylist.append(2) #menambahkan nilai 2 pada list\n",
        "mylist.append(3) #menambahkan nilai 3 pada list\n",
        "print(mylist[0]) # mencetak nilai pada index ke-0 dari mylist yaitu 1\n",
        "print(mylist[1]) # mencetak nilai pada index ke-1 dari mylist yaitu 2\n",
        "print(mylist[2]) # mencetak nilai pada index ke-2 dari mylist yaitu 3\n",
        "\n",
        "# prints out 1,2,3\n",
        "for x in mylist: #loop untuk setiap x yang ada di mylist\n",
        "  print(x) #mencetak nilai x "
      ],
      "metadata": {
        "colab": {
          "base_uri": "https://localhost:8080/"
        },
        "id": "tw9p-blxiBli",
        "outputId": "b36b2fa3-c918-488e-a76f-0c72e565f085"
      },
      "execution_count": null,
      "outputs": [
        {
          "output_type": "stream",
          "name": "stdout",
          "text": [
            "1\n",
            "2\n",
            "3\n",
            "1\n",
            "2\n",
            "3\n"
          ]
        }
      ]
    },
    {
      "cell_type": "code",
      "source": [
        "mylist = [1,2,3] #deklarasi list dengan nilai [1,2,3]\n",
        "#print(mylist[10]) # akan error jika diaktifkan ( list index out of range )\n",
        "\n",
        "numbers = [] #deklarasi list kosong\n",
        "strings = [] #deklarasi list kosong\n",
        "names = [\"john\", \"Eric\", \"Jessica\"] #deklarasi list dengan nilai [\"john\", \"Eric\", \"Jessica\"]\n",
        "\n",
        "# write your code here\n",
        "numbers.append(1) #menambahkan nilai 1 pada list numbers\n",
        "numbers.append(2) #menambahkan nilai 2 pada list numbers\n",
        "numbers.append(3) #menambahkan nilai 3 pada list numbers\n",
        "\n",
        "strings.append(\"hello\") #menambahkan string \"hello\" pada list strings\n",
        "strings.append(\"world\") #menambahkan string \"world\" pada list strings\n",
        "\n",
        "second_name = names[1] #menyimpan nilai pada index ke-1 dari list names yaitu \"Eric\" ke variable second_name\n",
        "\n",
        "# this code should write out the filled array and the second name in the list (Eric).\n",
        "\n",
        "print(numbers) #mencetak list numbers\n",
        "print(strings) #mencetak list strings\n",
        "print(\"The second name on the names list is %s\" % second_name) #mencetak string \"The second name on the names list is Eric\""
      ],
      "metadata": {
        "colab": {
          "base_uri": "https://localhost:8080/"
        },
        "id": "1CAnEzd6mXmk",
        "outputId": "897e4c4e-94bd-4344-c551-3ecaa678bd40"
      },
      "execution_count": null,
      "outputs": [
        {
          "output_type": "stream",
          "name": "stdout",
          "text": [
            "[1, 2, 3]\n",
            "['hello', 'world']\n",
            "The second name on the names list is Eric\n"
          ]
        }
      ]
    },
    {
      "cell_type": "markdown",
      "source": [
        "4. Basic Operator"
      ],
      "metadata": {
        "id": "VWGQqxLxk1G1"
      }
    },
    {
      "cell_type": "code",
      "source": [
        "number = 1 + 2 * 3 / 4.0 #melakukan operasi matematika dengan operator presedensi\n",
        "print(number) #mencetak hasil operasi"
      ],
      "metadata": {
        "colab": {
          "base_uri": "https://localhost:8080/"
        },
        "id": "66w49caWlwr8",
        "outputId": "aae9e313-e08e-4ab3-a6e0-63b431bd9cf8"
      },
      "execution_count": null,
      "outputs": [
        {
          "output_type": "stream",
          "name": "stdout",
          "text": [
            "2.5\n"
          ]
        }
      ]
    },
    {
      "cell_type": "code",
      "source": [
        "reminder = 11 % 3 #mencari sisa hasil pembagian 11/3\n",
        "print(reminder) #mencetak hasil sisa pembagian"
      ],
      "metadata": {
        "colab": {
          "base_uri": "https://localhost:8080/"
        },
        "id": "ZKL6cs7NnpZ8",
        "outputId": "f7c65029-187a-4bd1-ad5e-41b9881ebb57"
      },
      "execution_count": null,
      "outputs": [
        {
          "output_type": "stream",
          "name": "stdout",
          "text": [
            "2\n"
          ]
        }
      ]
    },
    {
      "cell_type": "code",
      "source": [
        "squared = 7 ** 2 #mencari 7 pangkat 2\n",
        "cubed = 2 ** 3 #mencari 2 pangkat 3\n",
        "print(squared) #mencetak hasil 7 pangkat 2\n",
        "print(cubed) #mencetak hasil 2 pangkat 3"
      ],
      "metadata": {
        "colab": {
          "base_uri": "https://localhost:8080/"
        },
        "id": "y1Rc8OAuns-X",
        "outputId": "492c6a4e-b67d-4309-cd88-14c6b38660b6"
      },
      "execution_count": null,
      "outputs": [
        {
          "output_type": "stream",
          "name": "stdout",
          "text": [
            "49\n",
            "8\n"
          ]
        }
      ]
    },
    {
      "cell_type": "code",
      "source": [
        "helloworld = \"hello\" + \" \" + \"world\" #menggabungkan string \"hello\" dan \"world\" dengan spasi\n",
        "print(helloworld) #mencetak hasil penggabungan"
      ],
      "metadata": {
        "colab": {
          "base_uri": "https://localhost:8080/"
        },
        "id": "4EUNOMHTnw8s",
        "outputId": "d353af8b-e94d-4809-8504-90f9da181a4f"
      },
      "execution_count": null,
      "outputs": [
        {
          "output_type": "stream",
          "name": "stdout",
          "text": [
            "hello world\n"
          ]
        }
      ]
    },
    {
      "cell_type": "code",
      "source": [
        "lotsofhellos = \"hello\" * 10 #menggandakan string \"hello\" sebanyak 10 kali\n",
        "print(lotsofhellos) #mencetak hasil pengandaan"
      ],
      "metadata": {
        "colab": {
          "base_uri": "https://localhost:8080/"
        },
        "id": "7zMF_kKUn3Ap",
        "outputId": "b389d7ca-4a2f-4324-dbf7-d4f3af46515f"
      },
      "execution_count": null,
      "outputs": [
        {
          "output_type": "stream",
          "name": "stdout",
          "text": [
            "hellohellohellohellohellohellohellohellohellohello\n"
          ]
        }
      ]
    },
    {
      "cell_type": "code",
      "source": [
        "even_numbers = [2,4,6,8] #deklarasi list dengan nilai [2,4,6,8]\n",
        "odd_numbers = [1,3,5,7] #deklarasi list dengan nilai [1,3,5,7]\n",
        "all_numbers = odd_numbers + even_numbers #menggabungkan list odd_numbers dan even_numbers\n",
        "print(all_numbers) #mencetak hasil penggabungan"
      ],
      "metadata": {
        "colab": {
          "base_uri": "https://localhost:8080/"
        },
        "id": "6y-v3y8nn7xo",
        "outputId": "13587ea3-619e-411f-c204-c8db1142630b"
      },
      "execution_count": null,
      "outputs": [
        {
          "output_type": "stream",
          "name": "stdout",
          "text": [
            "[1, 3, 5, 7, 2, 4, 6, 8]\n"
          ]
        }
      ]
    },
    {
      "cell_type": "code",
      "source": [
        "print([1,2,3] * 3) #menggandakan list [1,2,3] sebanyak 3 kali"
      ],
      "metadata": {
        "colab": {
          "base_uri": "https://localhost:8080/"
        },
        "id": "I66ScseloEhk",
        "outputId": "f61b35e2-3d9a-40cc-83e4-ffc067ef91c3"
      },
      "execution_count": null,
      "outputs": [
        {
          "output_type": "stream",
          "name": "stdout",
          "text": [
            "[1, 2, 3, 1, 2, 3, 1, 2, 3]\n"
          ]
        }
      ]
    },
    {
      "cell_type": "code",
      "source": [
        "x = object() #deklarasi objek x\n",
        "y = object() #deklarasi objek y\n",
        "\n",
        "# TODO: change this code\n",
        "x_list = [x] * 10 #menggandakan objek x sebanyak 10 kali\n",
        "y_list = [x] * 10 #menggandakan objek x sebanyak 10 kali\n",
        "big_list = x_list + y_list #menggabungkan x_list dan y_list\n",
        "\n",
        "print(\"x_list contains %d objects\" % len(x_list)) #mencetak jumlah objek pada x_list\n",
        "print(\"y_list contains %d objects\" % len(y_list)) #mencetak jumlah objek pada y_list\n",
        "print(\"big_list contains %d objects\" % len(big_list)) #mencetak jumlah objek pada big_list\n",
        "\n",
        "# testing code\n",
        "\n",
        "if x_list.count(x) == 10 and y_list.count(y) == 10: #mengecek jumlah objek x pada x_list sama dengan 10 dan jumlah objek y pada y_list sama dengan 10\n",
        "  print(\"Almost there...\")\n",
        "if big_list.count(x) == 10 and big_list.count(y) == 10: #mengecek jumlah objek x pada big_list sama dengan 10 dan jumlah objek y pada big_list sama dengan 10\n",
        "  print(\"Great!\")"
      ],
      "metadata": {
        "colab": {
          "base_uri": "https://localhost:8080/"
        },
        "id": "gda-K_9EoFlf",
        "outputId": "a3924e9e-e0d7-421c-9939-20c231aadb6d"
      },
      "execution_count": null,
      "outputs": [
        {
          "output_type": "stream",
          "name": "stdout",
          "text": [
            "x_list contains 10 objects\n",
            "y_list contains 10 objects\n",
            "big_list contains 20 objects\n"
          ]
        }
      ]
    }
  ]
}