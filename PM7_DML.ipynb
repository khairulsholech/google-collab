{
  "nbformat": 4,
  "nbformat_minor": 0,
  "metadata": {
    "colab": {
      "provenance": [],
      "authorship_tag": "ABX9TyMdlopxzF7hZ7g2oFSFUQlQ",
      "include_colab_link": true
    },
    "kernelspec": {
      "name": "python3",
      "display_name": "Python 3"
    },
    "language_info": {
      "name": "python"
    }
  },
  "cells": [
    {
      "cell_type": "markdown",
      "metadata": {
        "id": "view-in-github",
        "colab_type": "text"
      },
      "source": [
        "<a href=\"https://colab.research.google.com/github/khairulsholech/google-collab/blob/main/PM7_DML.ipynb\" target=\"_parent\"><img src=\"https://colab.research.google.com/assets/colab-badge.svg\" alt=\"Open In Colab\"/></a>"
      ]
    },
    {
      "cell_type": "markdown",
      "source": [
        "**Pengenalan NumPy Arrays**\n",
        "\n",
        "**Membuat Array**"
      ],
      "metadata": {
        "id": "SVnpfy7Rk-TQ"
      }
    },
    {
      "cell_type": "code",
      "execution_count": null,
      "metadata": {
        "id": "GgqahYTCiO1a"
      },
      "outputs": [],
      "source": [
        "import numpy as np"
      ]
    },
    {
      "cell_type": "code",
      "source": [
        "# Membuat array\n",
        "a = np.array([1,2,3])\n",
        "a"
      ],
      "metadata": {
        "colab": {
          "base_uri": "https://localhost:8080/"
        },
        "id": "1-tujNN_lPf6",
        "outputId": "24fef076-6626-425d-a5ce-669b598b813d"
      },
      "execution_count": null,
      "outputs": [
        {
          "output_type": "execute_result",
          "data": {
            "text/plain": [
              "array([1, 2, 3])"
            ]
          },
          "metadata": {},
          "execution_count": 2
        }
      ]
    },
    {
      "cell_type": "code",
      "source": [
        "b = np.array([1,2,3.0])\n",
        "b"
      ],
      "metadata": {
        "colab": {
          "base_uri": "https://localhost:8080/"
        },
        "id": "uF-ZBHvHl1xP",
        "outputId": "dd6a9e85-3401-4df7-e4d0-14f3e44a2528"
      },
      "execution_count": null,
      "outputs": [
        {
          "output_type": "execute_result",
          "data": {
            "text/plain": [
              "array([1., 2., 3.])"
            ]
          },
          "metadata": {},
          "execution_count": 5
        }
      ]
    },
    {
      "cell_type": "markdown",
      "source": [
        "**Cek Tipe**"
      ],
      "metadata": {
        "id": "268cJKTjl-Mj"
      }
    },
    {
      "cell_type": "code",
      "source": [
        "# Mengecek tipe data array\n",
        "type(a)"
      ],
      "metadata": {
        "colab": {
          "base_uri": "https://localhost:8080/"
        },
        "id": "yJEWw-1gl8_z",
        "outputId": "4760ad9a-c827-47eb-a379-bf83c5bea002"
      },
      "execution_count": null,
      "outputs": [
        {
          "output_type": "execute_result",
          "data": {
            "text/plain": [
              "numpy.ndarray"
            ]
          },
          "metadata": {},
          "execution_count": 6
        }
      ]
    },
    {
      "cell_type": "markdown",
      "source": [
        "**Tipe Data untuk Element**"
      ],
      "metadata": {
        "id": "5hpEWgtLmG24"
      }
    },
    {
      "cell_type": "code",
      "source": [
        "a = np.array([1,2,3])\n",
        "a.dtype"
      ],
      "metadata": {
        "colab": {
          "base_uri": "https://localhost:8080/"
        },
        "id": "8k94FWIumJKS",
        "outputId": "21dc8b67-c7ff-46cc-a6e9-b9e70e602b5e"
      },
      "execution_count": null,
      "outputs": [
        {
          "output_type": "execute_result",
          "data": {
            "text/plain": [
              "dtype('int64')"
            ]
          },
          "metadata": {},
          "execution_count": 7
        }
      ]
    },
    {
      "cell_type": "markdown",
      "source": [
        "**Jumlah Dimensi**"
      ],
      "metadata": {
        "id": "2qEgDLmOmTni"
      }
    },
    {
      "cell_type": "code",
      "source": [
        "# Cek jumlag dimensi pada array\n",
        "a = np.array([1,2,3])\n",
        "a.shape"
      ],
      "metadata": {
        "colab": {
          "base_uri": "https://localhost:8080/"
        },
        "id": "R40RKcE8mW9a",
        "outputId": "846c484b-6183-483c-8cfe-ea88a8dd6389"
      },
      "execution_count": null,
      "outputs": [
        {
          "output_type": "execute_result",
          "data": {
            "text/plain": [
              "(3,)"
            ]
          },
          "metadata": {},
          "execution_count": 8
        }
      ]
    },
    {
      "cell_type": "markdown",
      "source": [
        "**Operasi pada Array**"
      ],
      "metadata": {
        "id": "iAyn7YRJmlWJ"
      }
    },
    {
      "cell_type": "code",
      "source": [
        "a = np.array([1,2,3])\n",
        "f = np.array([1.1, 2.2, 3.3])\n",
        "a + f"
      ],
      "metadata": {
        "colab": {
          "base_uri": "https://localhost:8080/"
        },
        "id": "rIiQRnXDmmss",
        "outputId": "a04f3f6c-8578-41b4-fcc3-d91d8f747615"
      },
      "execution_count": null,
      "outputs": [
        {
          "output_type": "execute_result",
          "data": {
            "text/plain": [
              "array([2.1, 4.2, 6.3])"
            ]
          },
          "metadata": {},
          "execution_count": 9
        }
      ]
    },
    {
      "cell_type": "code",
      "source": [
        "a * f"
      ],
      "metadata": {
        "colab": {
          "base_uri": "https://localhost:8080/"
        },
        "id": "8WMMkUFZm1Ca",
        "outputId": "e1c840a2-7d8e-485e-d51c-34e2d1447bda"
      },
      "execution_count": null,
      "outputs": [
        {
          "output_type": "execute_result",
          "data": {
            "text/plain": [
              "array([1.1, 4.4, 9.9])"
            ]
          },
          "metadata": {},
          "execution_count": 10
        }
      ]
    },
    {
      "cell_type": "code",
      "source": [
        "a ** f"
      ],
      "metadata": {
        "colab": {
          "base_uri": "https://localhost:8080/"
        },
        "id": "b1ZguzmIm4bR",
        "outputId": "c750a8a6-a0ba-4919-fda5-ac6532045ea4"
      },
      "execution_count": null,
      "outputs": [
        {
          "output_type": "execute_result",
          "data": {
            "text/plain": [
              "array([ 1.        ,  4.59479342, 37.5405076 ])"
            ]
          },
          "metadata": {},
          "execution_count": 11
        }
      ]
    },
    {
      "cell_type": "code",
      "source": [
        "# Universal function (ufuncs) pada numpy seperti sin\n",
        "np.sin(a)"
      ],
      "metadata": {
        "colab": {
          "base_uri": "https://localhost:8080/"
        },
        "id": "rT8kZdAsm9wM",
        "outputId": "a7a9d314-66ca-4bde-b52a-d8f8b5462f98"
      },
      "execution_count": null,
      "outputs": [
        {
          "output_type": "execute_result",
          "data": {
            "text/plain": [
              "array([0.84147098, 0.90929743, 0.14112001])"
            ]
          },
          "metadata": {},
          "execution_count": 12
        }
      ]
    },
    {
      "cell_type": "markdown",
      "source": [
        "**Element pada Array**\n",
        "\n",
        "**Array Indexing**"
      ],
      "metadata": {
        "id": "Hjbbq5cTnL9f"
      }
    },
    {
      "cell_type": "code",
      "source": [
        "# Mengakses elemen pada indeks ke-0\n",
        "a = np.array([1,2,3])\n",
        "a[0]"
      ],
      "metadata": {
        "colab": {
          "base_uri": "https://localhost:8080/"
        },
        "id": "v-roewfXnSxH",
        "outputId": "65f8b247-452c-4001-b03a-f7cdc1b2d044"
      },
      "execution_count": null,
      "outputs": [
        {
          "output_type": "execute_result",
          "data": {
            "text/plain": [
              "1"
            ]
          },
          "metadata": {},
          "execution_count": 13
        }
      ]
    },
    {
      "cell_type": "code",
      "source": [
        "# Melakukan assign pada element array dengan element baru\n",
        "a[0] = 10\n",
        "a"
      ],
      "metadata": {
        "colab": {
          "base_uri": "https://localhost:8080/"
        },
        "id": "iUZPgw4LngnD",
        "outputId": "c99d01ee-6a74-44bc-b569-a7462fd0322f"
      },
      "execution_count": null,
      "outputs": [
        {
          "output_type": "execute_result",
          "data": {
            "text/plain": [
              "array([10,  2,  3])"
            ]
          },
          "metadata": {},
          "execution_count": 14
        }
      ]
    },
    {
      "cell_type": "code",
      "source": [
        "a = np.array([1,2,3])\n",
        "a.dtype"
      ],
      "metadata": {
        "colab": {
          "base_uri": "https://localhost:8080/"
        },
        "id": "-3_fKW9EnyFl",
        "outputId": "65956a50-171b-45f4-e1c0-dc265db71fcf"
      },
      "execution_count": null,
      "outputs": [
        {
          "output_type": "execute_result",
          "data": {
            "text/plain": [
              "dtype('int64')"
            ]
          },
          "metadata": {},
          "execution_count": 15
        }
      ]
    },
    {
      "cell_type": "code",
      "source": [
        "# Assign nilai baru pada indeks ke-0\n",
        "a[0] = 11.6\n",
        "a"
      ],
      "metadata": {
        "colab": {
          "base_uri": "https://localhost:8080/"
        },
        "id": "vS3TO4iHn7zY",
        "outputId": "76751d5f-08e4-4ffb-af6b-c679be08c24d"
      },
      "execution_count": null,
      "outputs": [
        {
          "output_type": "execute_result",
          "data": {
            "text/plain": [
              "array([11,  2,  3])"
            ]
          },
          "metadata": {},
          "execution_count": 16
        }
      ]
    },
    {
      "cell_type": "markdown",
      "source": [
        "**Multi-Dimensional Arrays**"
      ],
      "metadata": {
        "id": "FNE5Tz3boOXa"
      }
    },
    {
      "cell_type": "code",
      "source": [
        "# Membentuk array 2-dimensi\n",
        "a = np.array([[0, 1, 2, 3],[10,11,12,13]])\n",
        "a"
      ],
      "metadata": {
        "colab": {
          "base_uri": "https://localhost:8080/"
        },
        "id": "gSDbCVdSoLX1",
        "outputId": "018a5d7f-9229-477b-a4b5-c719a02b591b"
      },
      "execution_count": null,
      "outputs": [
        {
          "output_type": "execute_result",
          "data": {
            "text/plain": [
              "array([[ 0,  1,  2,  3],\n",
              "       [10, 11, 12, 13]])"
            ]
          },
          "metadata": {},
          "execution_count": 17
        }
      ]
    },
    {
      "cell_type": "code",
      "source": [
        "a.shape"
      ],
      "metadata": {
        "colab": {
          "base_uri": "https://localhost:8080/"
        },
        "id": "KFkmNYdvoezf",
        "outputId": "719a02c9-ca82-4e18-c15d-aeb194639832"
      },
      "execution_count": null,
      "outputs": [
        {
          "output_type": "execute_result",
          "data": {
            "text/plain": [
              "(2, 4)"
            ]
          },
          "metadata": {},
          "execution_count": 18
        }
      ]
    },
    {
      "cell_type": "code",
      "source": [
        "a.size"
      ],
      "metadata": {
        "colab": {
          "base_uri": "https://localhost:8080/"
        },
        "id": "DLTCGVQfoikK",
        "outputId": "9c5597ab-2b37-43ea-d0a3-89bad04d4467"
      },
      "execution_count": null,
      "outputs": [
        {
          "output_type": "execute_result",
          "data": {
            "text/plain": [
              "8"
            ]
          },
          "metadata": {},
          "execution_count": 19
        }
      ]
    },
    {
      "cell_type": "code",
      "source": [
        "a.ndim"
      ],
      "metadata": {
        "colab": {
          "base_uri": "https://localhost:8080/"
        },
        "id": "uI1BGsFFolBs",
        "outputId": "b5d2b9e6-5e69-47b6-bfab-9c547f0027de"
      },
      "execution_count": null,
      "outputs": [
        {
          "output_type": "execute_result",
          "data": {
            "text/plain": [
              "2"
            ]
          },
          "metadata": {},
          "execution_count": 20
        }
      ]
    },
    {
      "cell_type": "code",
      "source": [
        "a[1,3]"
      ],
      "metadata": {
        "colab": {
          "base_uri": "https://localhost:8080/"
        },
        "id": "BHQh5jNOorsw",
        "outputId": "bea3c1cc-e7c4-4a03-e253-276656ade662"
      },
      "execution_count": null,
      "outputs": [
        {
          "output_type": "execute_result",
          "data": {
            "text/plain": [
              "13"
            ]
          },
          "metadata": {},
          "execution_count": 21
        }
      ]
    },
    {
      "cell_type": "code",
      "source": [
        "a[1, 3] = -1\n",
        "a"
      ],
      "metadata": {
        "colab": {
          "base_uri": "https://localhost:8080/"
        },
        "id": "__8vSWpQo4jy",
        "outputId": "aa6d164e-1f7a-44ff-a422-7dff699a1793"
      },
      "execution_count": null,
      "outputs": [
        {
          "output_type": "execute_result",
          "data": {
            "text/plain": [
              "array([[ 0,  1,  2,  3],\n",
              "       [10, 11, 12, -1]])"
            ]
          },
          "metadata": {},
          "execution_count": 22
        }
      ]
    },
    {
      "cell_type": "markdown",
      "source": [
        "**Slicing**"
      ],
      "metadata": {
        "id": "EcXfoyBxo-7x"
      }
    },
    {
      "cell_type": "code",
      "source": [
        "a = np.array([1,2,3])\n",
        "# slicing dari indeks ke-1, dan batas indeks ke-2\n",
        "a[1:2]"
      ],
      "metadata": {
        "colab": {
          "base_uri": "https://localhost:8080/"
        },
        "id": "NwUKcrI8pAlh",
        "outputId": "0ec9beb0-a418-47a0-a0e8-bf786ea9ac4d"
      },
      "execution_count": null,
      "outputs": [
        {
          "output_type": "execute_result",
          "data": {
            "text/plain": [
              "array([2])"
            ]
          },
          "metadata": {},
          "execution_count": 23
        }
      ]
    },
    {
      "cell_type": "code",
      "source": [
        "# slicing dari indeks ke-1, dan batas indeks ke-1 dari belakang\n",
        "a[1:-1]"
      ],
      "metadata": {
        "colab": {
          "base_uri": "https://localhost:8080/"
        },
        "id": "z0a7TywYpkNU",
        "outputId": "819437d8-6ae4-4f21-c7d2-4368833107f4"
      },
      "execution_count": null,
      "outputs": [
        {
          "output_type": "execute_result",
          "data": {
            "text/plain": [
              "array([2])"
            ]
          },
          "metadata": {},
          "execution_count": 24
        }
      ]
    },
    {
      "cell_type": "code",
      "source": [
        "a[::2]"
      ],
      "metadata": {
        "colab": {
          "base_uri": "https://localhost:8080/"
        },
        "id": "hnBuZk-ipxuP",
        "outputId": "9514f0a8-6940-49b2-88ab-79db9d65cd95"
      },
      "execution_count": null,
      "outputs": [
        {
          "output_type": "execute_result",
          "data": {
            "text/plain": [
              "array([1, 3])"
            ]
          },
          "metadata": {},
          "execution_count": 25
        }
      ]
    },
    {
      "cell_type": "markdown",
      "source": [
        "**LATIHAN**"
      ],
      "metadata": {
        "id": "oMbddYRwp9zn"
      }
    },
    {
      "cell_type": "markdown",
      "source": [
        "**Kelompok 3**\n",
        "- Aliffio Syah Maulana - 41519120065\n",
        "- Khairul Sholech - 41519120068\n",
        "- Reza Arrofi - 41519120044"
      ],
      "metadata": {
        "id": "s-o0y-6fqLWV"
      }
    },
    {
      "cell_type": "markdown",
      "source": [
        "**Operasi Aritmatika**\n",
        "\n",
        "Kita bisa menggunakan operasi aritmatika seperti penjumlahan, pengurangan, perkalian,\n",
        "pembagian dan perpangkatan\n",
        "Operator yang digunakan adalah +, -, *, / dan **\n",
        "\n",
        "\n",
        "Berikut contoh oparr_A = np.array([1,2,3,4,5])"
      ],
      "metadata": {
        "id": "K5zRBH8-qTo4"
      }
    },
    {
      "cell_type": "code",
      "source": [
        "arr_A = np.array([1,2,3,4,5])\n",
        "arr_B = np.array([2,2,2,2,2])\n",
        "\n",
        "print(\"Penjumlahan = \", arr_A + arr_B)\n",
        "print(\"Pengurangan = \", arr_A - arr_B)\n",
        "print(\"Perkalian = \", arr_A * arr_B)\n",
        "print(\"Pembagian = \", arr_A / arr_B)\n",
        "print(\"Perpangkatan = \", arr_A ** arr_B) #operasi aritmatika pada array"
      ],
      "metadata": {
        "colab": {
          "base_uri": "https://localhost:8080/"
        },
        "id": "qOji31iFqMJr",
        "outputId": "b5d19b58-45b9-49fc-c678-0f53d75afad1"
      },
      "execution_count": null,
      "outputs": [
        {
          "output_type": "stream",
          "name": "stdout",
          "text": [
            "Penjumlahan =  [3 4 5 6 7]\n",
            "Pengurangan =  [-1  0  1  2  3]\n",
            "Perkalian =  [ 2  4  6  8 10]\n",
            "Pembagian =  [0.5 1.  1.5 2.  2.5]\n",
            "Perpangkatan =  [ 1  4  9 16 25]\n"
          ]
        }
      ]
    },
    {
      "cell_type": "markdown",
      "source": [
        "**Operasi Matematika**\n",
        "\n",
        "NumPy mempunyai fungsi matematika yang dapat digunakan pada Array\n",
        "Beberapa contoh fungsi statistik antara lain min(), max(), mean(), sum(), std()"
      ],
      "metadata": {
        "id": "pDCluZj_rJUP"
      }
    },
    {
      "cell_type": "code",
      "source": [
        "arrku = np.array([1,2,3,4,5])\n",
        "print(\"Nilai minimal = \", arrku.min())\n",
        "print(\"Nilai maksimal = \", arrku.max())\n",
        "print(\"Nilai rata-rata = \", arrku.mean())\n",
        "print(\"Total nilai = \", arrku.sum())\n",
        "print(\"Standar Deviasi = \", arrku.std())\n",
        "\n",
        "#Ada juga fungsi argmin() dan argmax() untuk mendapatkan index dari nilai minimum dan maksimum\n",
        "print(\"Index nilai niminal = \", arrku.argmin())\n",
        "print(\"Index nilai maksimal = \", arrku.argmax())"
      ],
      "metadata": {
        "colab": {
          "base_uri": "https://localhost:8080/"
        },
        "id": "0Muk8axgrNWR",
        "outputId": "54bef98e-2eb5-4296-821c-c094d3c4ef77"
      },
      "execution_count": null,
      "outputs": [
        {
          "output_type": "stream",
          "name": "stdout",
          "text": [
            "Nilai minimal =  1\n",
            "Nilai maksimal =  5\n",
            "Nilai rata-rata =  3.0\n",
            "Total nilai =  15\n",
            "Standar Deviasi =  1.4142135623730951\n",
            "Index nilai niminal =  0\n",
            "Index nilai maksimal =  4\n"
          ]
        }
      ]
    },
    {
      "cell_type": "markdown",
      "source": [
        "Ada beberapa fungsi lagi yang dapat digunakan dalam membuat array antara lain zeros(), ones(), arange(), linspace(), logspace(),\n",
        "\n",
        "\n",
        "*   zeros() -> Membuat array dengan nilai 0\n",
        "*   ones() -> Membuat array dengan nilai 1\n",
        "*   arange() -> Membuat array dengan nilai dalam range\n",
        "*   linspace() -> Membuat array dengan nilai dalam interval\n",
        "*   logspace() -> Membuat array dengan nilai log Base10 dalam interval"
      ],
      "metadata": {
        "id": "k4vlzV8irhpc"
      }
    },
    {
      "cell_type": "code",
      "source": [
        "np.zeros(5) # membuat array dengan nilai 0 sebanyak 5"
      ],
      "metadata": {
        "colab": {
          "base_uri": "https://localhost:8080/"
        },
        "id": "BeJCYoZ0rT9C",
        "outputId": "2c2ca259-bc1e-4eaf-8bf7-83561b7bc887"
      },
      "execution_count": null,
      "outputs": [
        {
          "output_type": "execute_result",
          "data": {
            "text/plain": [
              "array([0., 0., 0., 0., 0.])"
            ]
          },
          "metadata": {},
          "execution_count": 33
        }
      ]
    },
    {
      "cell_type": "code",
      "source": [
        "np.ones(5) # membuat array dengan nilai 1 sebanyak 5"
      ],
      "metadata": {
        "colab": {
          "base_uri": "https://localhost:8080/"
        },
        "id": "8Z8am2ojsMWc",
        "outputId": "f99eac87-b7ad-44e4-abcc-31460caf69de"
      },
      "execution_count": null,
      "outputs": [
        {
          "output_type": "execute_result",
          "data": {
            "text/plain": [
              "array([1., 1., 1., 1., 1.])"
            ]
          },
          "metadata": {},
          "execution_count": 34
        }
      ]
    },
    {
      "cell_type": "code",
      "source": [
        "np.arange(1, 10, 2) #arange(start, stop, step)"
      ],
      "metadata": {
        "colab": {
          "base_uri": "https://localhost:8080/"
        },
        "id": "2cDtrnLVsPSu",
        "outputId": "60b44382-e460-4c7b-8ed8-9e4e3846c2ac"
      },
      "execution_count": null,
      "outputs": [
        {
          "output_type": "execute_result",
          "data": {
            "text/plain": [
              "array([1, 3, 5, 7, 9])"
            ]
          },
          "metadata": {},
          "execution_count": 35
        }
      ]
    },
    {
      "cell_type": "code",
      "source": [
        "np.linspace(1, 10, 2) # linespace(start, stop, number)"
      ],
      "metadata": {
        "colab": {
          "base_uri": "https://localhost:8080/"
        },
        "id": "oaZkFPFNsSNw",
        "outputId": "3cf57b93-d072-40f3-a3d9-4639125265ec"
      },
      "execution_count": null,
      "outputs": [
        {
          "output_type": "execute_result",
          "data": {
            "text/plain": [
              "array([ 1., 10.])"
            ]
          },
          "metadata": {},
          "execution_count": 36
        }
      ]
    },
    {
      "cell_type": "code",
      "source": [
        "np.logspace(1, 10, 2) # logspace(start, stop, number)"
      ],
      "metadata": {
        "id": "eJnO9xrosWrf",
        "outputId": "69e9b91d-402e-4316-9f23-670825508bdd",
        "colab": {
          "base_uri": "https://localhost:8080/"
        }
      },
      "execution_count": null,
      "outputs": [
        {
          "output_type": "execute_result",
          "data": {
            "text/plain": [
              "array([1.e+01, 1.e+10])"
            ]
          },
          "metadata": {},
          "execution_count": 37
        }
      ]
    }
  ]
}